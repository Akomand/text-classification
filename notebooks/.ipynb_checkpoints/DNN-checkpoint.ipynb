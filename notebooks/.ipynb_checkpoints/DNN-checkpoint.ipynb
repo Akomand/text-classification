{
 "cells": [
  {
   "cell_type": "code",
   "execution_count": null,
   "metadata": {
    "id": "4lAVUGutujjb"
   },
   "outputs": [],
   "source": [
    "from keras.layers import  Dropout, Dense\n",
    "from keras.models import Sequential\n",
    "from sklearn.feature_extraction.text import TfidfVectorizer\n",
    "from sklearn.model_selection import train_test_split\n",
    "import numpy as np\n",
    "import pandas as pd\n",
    "from sklearn import metrics"
   ]
  },
  {
   "cell_type": "code",
   "execution_count": null,
   "metadata": {
    "id": "jKggnJshujjj"
   },
   "outputs": [],
   "source": [
    "def TFIDF(X_train, X_test,MAX_NB_WORDS=750):\n",
    "    vectorizer_x = TfidfVectorizer(max_features=MAX_NB_WORDS)\n",
    "    X_train = vectorizer_x.fit_transform(X_train).toarray()\n",
    "    X_test = vectorizer_x.transform(X_test).toarray()\n",
    "    print(\"tf-idf with\",str(np.array(X_train).shape[1]),\"features\")\n",
    "    return (X_train,X_test)"
   ]
  },
  {
   "cell_type": "code",
   "execution_count": null,
   "metadata": {
    "id": "KvAk0-BVujjk"
   },
   "outputs": [],
   "source": [
    "def Build_Model_DNN_Text(shape, nClasses, dropout=0.5):\n",
    "    \"\"\"\n",
    "    buildModel_DNN_Tex(shape, nClasses,dropout)\n",
    "    Build Deep neural networks Model for text classification\n",
    "    Shape is input feature space\n",
    "    nClasses is number of classes\n",
    "    \"\"\"\n",
    "    model = Sequential()\n",
    "    node = 512 # number of nodes\n",
    "    nLayers = 4 # number of  hidden layer\n",
    "\n",
    "    model.add(Dense(node,input_dim=shape,activation='relu'))\n",
    "    model.add(Dropout(dropout))\n",
    "    for i in range(0,nLayers):\n",
    "        model.add(Dense(node,input_dim=node,activation='relu'))\n",
    "        model.add(Dropout(dropout))\n",
    "    model.add(Dense(nClasses, activation='softmax'))\n",
    "\n",
    "    model.compile(loss='sparse_categorical_crossentropy',\n",
    "                  optimizer='adam',\n",
    "                  metrics=['accuracy',])\n",
    "\n",
    "    return model\n"
   ]
  },
  {
   "cell_type": "code",
   "execution_count": null,
   "metadata": {
    "id": "d3rC0lztvBf2"
   },
   "outputs": [],
   "source": [
    "news = False\n",
    "dataset = 'amazon'\n",
    "data = pd.read_pickle(f'../data/{dataset}_preprocessed')"
   ]
  },
  {
   "cell_type": "code",
   "execution_count": null,
   "metadata": {
    "id": "URiG17cZujjk"
   },
   "outputs": [],
   "source": [
    "from sklearn.datasets import fetch_20newsgroups\n",
    "\n",
    "if news:\n",
    "  newsgroups_train = fetch_20newsgroups(subset='train')\n",
    "  newsgroups_test = fetch_20newsgroups(subset='test')\n",
    "  X_train = newsgroups_train.data\n",
    "  X_test = newsgroups_test.data\n",
    "  y_train = newsgroups_train.target\n",
    "  y_test = newsgroups_test.target\n",
    "else:\n",
    "  X_train, X_test, y_train, y_test = train_test_split(data['review'], data['sentiment'], test_size=0.2, random_state=5)"
   ]
  },
  {
   "cell_type": "code",
   "execution_count": null,
   "metadata": {
    "colab": {
     "base_uri": "https://localhost:8080/"
    },
    "id": "WmfSAv_Iujjk",
    "outputId": "f86f36ea-a33d-4abc-9620-a19a3e696a87"
   },
   "outputs": [
    {
     "name": "stdout",
     "output_type": "stream",
     "text": [
      "tf-idf with 750 features\n"
     ]
    }
   ],
   "source": [
    "X_train_tfidf,X_test_tfidf = TFIDF(X_train,X_test)"
   ]
  },
  {
   "cell_type": "code",
   "execution_count": null,
   "metadata": {
    "id": "mPMeOsL0ujjl"
   },
   "outputs": [],
   "source": []
  },
  {
   "cell_type": "code",
   "execution_count": null,
   "metadata": {
    "id": "qyzCb19sujjl"
   },
   "outputs": [],
   "source": []
  },
  {
   "cell_type": "code",
   "execution_count": null,
   "metadata": {
    "colab": {
     "base_uri": "https://localhost:8080/"
    },
    "id": "xlEMR63Hujjl",
    "outputId": "a105f651-6c28-44d7-f0aa-f919c37cf510"
   },
   "outputs": [
    {
     "name": "stdout",
     "output_type": "stream",
     "text": [
      "Model: \"sequential_1\"\n",
      "_________________________________________________________________\n",
      "Layer (type)                 Output Shape              Param #   \n",
      "=================================================================\n",
      "dense_6 (Dense)              (None, 512)               384512    \n",
      "_________________________________________________________________\n",
      "dropout_5 (Dropout)          (None, 512)               0         \n",
      "_________________________________________________________________\n",
      "dense_7 (Dense)              (None, 512)               262656    \n",
      "_________________________________________________________________\n",
      "dropout_6 (Dropout)          (None, 512)               0         \n",
      "_________________________________________________________________\n",
      "dense_8 (Dense)              (None, 512)               262656    \n",
      "_________________________________________________________________\n",
      "dropout_7 (Dropout)          (None, 512)               0         \n",
      "_________________________________________________________________\n",
      "dense_9 (Dense)              (None, 512)               262656    \n",
      "_________________________________________________________________\n",
      "dropout_8 (Dropout)          (None, 512)               0         \n",
      "_________________________________________________________________\n",
      "dense_10 (Dense)             (None, 512)               262656    \n",
      "_________________________________________________________________\n",
      "dropout_9 (Dropout)          (None, 512)               0         \n",
      "_________________________________________________________________\n",
      "dense_11 (Dense)             (None, 20)                10260     \n",
      "=================================================================\n",
      "Total params: 1,445,396\n",
      "Trainable params: 1,445,396\n",
      "Non-trainable params: 0\n",
      "_________________________________________________________________\n",
      "Epoch 1/20\n",
      "2500/2500 - 57s - loss: 0.3719 - accuracy: 0.8368 - val_loss: 0.3167 - val_accuracy: 0.8626\n",
      "Epoch 2/20\n",
      "2500/2500 - 56s - loss: 0.3225 - accuracy: 0.8629 - val_loss: 0.3087 - val_accuracy: 0.8670\n",
      "Epoch 3/20\n",
      "2500/2500 - 56s - loss: 0.3005 - accuracy: 0.8743 - val_loss: 0.3089 - val_accuracy: 0.8677\n",
      "Epoch 4/20\n",
      "2500/2500 - 56s - loss: 0.2815 - accuracy: 0.8839 - val_loss: 0.3086 - val_accuracy: 0.8669\n",
      "Epoch 5/20\n",
      "2500/2500 - 56s - loss: 0.2641 - accuracy: 0.8913 - val_loss: 0.3058 - val_accuracy: 0.8687\n",
      "Epoch 6/20\n",
      "2500/2500 - 56s - loss: 0.2481 - accuracy: 0.8988 - val_loss: 0.3080 - val_accuracy: 0.8672\n",
      "Epoch 7/20\n",
      "2500/2500 - 56s - loss: 0.2348 - accuracy: 0.9053 - val_loss: 0.3085 - val_accuracy: 0.8673\n",
      "Epoch 8/20\n",
      "2500/2500 - 55s - loss: 0.2234 - accuracy: 0.9106 - val_loss: 0.3111 - val_accuracy: 0.8662\n",
      "Epoch 9/20\n",
      "2500/2500 - 56s - loss: 0.2137 - accuracy: 0.9141 - val_loss: 0.3180 - val_accuracy: 0.8638\n",
      "Epoch 10/20\n",
      "2500/2500 - 56s - loss: 0.2038 - accuracy: 0.9186 - val_loss: 0.3285 - val_accuracy: 0.8634\n",
      "Epoch 11/20\n",
      "2500/2500 - 55s - loss: 0.1960 - accuracy: 0.9224 - val_loss: 0.3299 - val_accuracy: 0.8626\n",
      "Epoch 12/20\n",
      "2500/2500 - 56s - loss: 0.1885 - accuracy: 0.9247 - val_loss: 0.3289 - val_accuracy: 0.8625\n",
      "Epoch 13/20\n",
      "2500/2500 - 56s - loss: 0.1829 - accuracy: 0.9272 - val_loss: 0.3252 - val_accuracy: 0.8621\n",
      "Epoch 14/20\n",
      "2500/2500 - 55s - loss: 0.1776 - accuracy: 0.9296 - val_loss: 0.3257 - val_accuracy: 0.8611\n",
      "Epoch 15/20\n",
      "2500/2500 - 55s - loss: 0.1722 - accuracy: 0.9319 - val_loss: 0.3325 - val_accuracy: 0.8619\n",
      "Epoch 16/20\n",
      "2500/2500 - 55s - loss: 0.1686 - accuracy: 0.9336 - val_loss: 0.3332 - val_accuracy: 0.8613\n",
      "Epoch 17/20\n",
      "2500/2500 - 55s - loss: 0.1626 - accuracy: 0.9362 - val_loss: 0.3357 - val_accuracy: 0.8606\n",
      "Epoch 18/20\n",
      "2500/2500 - 55s - loss: 0.1591 - accuracy: 0.9377 - val_loss: 0.3383 - val_accuracy: 0.8615\n",
      "Epoch 19/20\n",
      "2500/2500 - 55s - loss: 0.1556 - accuracy: 0.9386 - val_loss: 0.3458 - val_accuracy: 0.8587\n",
      "Epoch 20/20\n",
      "2500/2500 - 55s - loss: 0.1532 - accuracy: 0.9395 - val_loss: 0.3395 - val_accuracy: 0.8585\n"
     ]
    },
    {
     "data": {
      "text/plain": [
       "<tensorflow.python.keras.callbacks.History at 0x7fed4c4ee630>"
      ]
     },
     "execution_count": 8,
     "metadata": {
      "tags": []
     },
     "output_type": "execute_result"
    }
   ],
   "source": [
    "model_DNN = Build_Model_DNN_Text(X_train_tfidf.shape[1], 20)\n",
    "model_DNN.summary()\n",
    "exit(1)\n",
    "model_DNN.fit(X_train_tfidf, y_train,\n",
    "                              validation_data=(X_test_tfidf, y_test),\n",
    "                              epochs=20,\n",
    "                              batch_size=128,\n",
    "                              verbose=2)"
   ]
  },
  {
   "cell_type": "code",
   "execution_count": null,
   "metadata": {
    "id": "7mTUBzqbujjl"
   },
   "outputs": [],
   "source": []
  },
  {
   "cell_type": "code",
   "execution_count": null,
   "metadata": {},
   "outputs": [],
   "source": []
  },
  {
   "cell_type": "code",
   "execution_count": null,
   "metadata": {},
   "outputs": [],
   "source": []
  }
 ],
 "metadata": {
  "colab": {
   "collapsed_sections": [],
   "name": "DNN.ipynb",
   "provenance": []
  },
  "kernelspec": {
   "display_name": "Python 3",
   "language": "python",
   "name": "python3"
  },
  "language_info": {
   "codemirror_mode": {
    "name": "ipython",
    "version": 3
   },
   "file_extension": ".py",
   "mimetype": "text/x-python",
   "name": "python",
   "nbconvert_exporter": "python",
   "pygments_lexer": "ipython3",
   "version": "3.7.3"
  }
 },
 "nbformat": 4,
 "nbformat_minor": 4
}
