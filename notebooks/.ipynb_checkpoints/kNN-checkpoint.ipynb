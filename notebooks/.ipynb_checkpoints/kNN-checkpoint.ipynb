{
 "cells": [
  {
   "cell_type": "code",
   "execution_count": 43,
   "metadata": {},
   "outputs": [
    {
     "name": "stderr",
     "output_type": "stream",
     "text": [
      "[nltk_data] Downloading package stopwords to\n",
      "[nltk_data]     /Users/akomand/nltk_data...\n",
      "[nltk_data]   Package stopwords is already up-to-date!\n"
     ]
    }
   ],
   "source": [
    "# Import relevant packages\n",
    "import numpy as np\n",
    "import pandas as pd\n",
    "import matplotlib.pyplot as plt\n",
    "import nltk\n",
    "# \n",
    "from sklearn.neighbors import KNeighborsClassifier\n",
    "from sklearn.decomposition import PCA\n",
    "from sklearn.pipeline import Pipeline\n",
    "from sklearn.model_selection import train_test_split\n",
    "from sklearn import metrics\n",
    "from sklearn.preprocessing import LabelEncoder\n",
    "from sklearn.feature_extraction.text import CountVectorizer\n",
    "from sklearn.feature_extraction.text import TfidfTransformer\n",
    "from sklearn.feature_extraction.text import TfidfVectorizer\n",
    "from sklearn.datasets import fetch_20newsgroups\n",
    "\n",
    "from nltk.corpus import stopwords\n",
    "nltk.download('stopwords')\n",
    "from nltk.stem.porter import PorterStemmer\n",
    "from wordcloud import WordCloud,STOPWORDS\n",
    "from nltk.stem import WordNetLemmatizer\n",
    "from nltk.tokenize import word_tokenize,sent_tokenize\n",
    "from bs4 import BeautifulSoup\n",
    "import spacy\n",
    "import re,string,unicodedata\n",
    "from nltk.tokenize.toktok import ToktokTokenizer\n",
    "from nltk.tokenize import RegexpTokenizer"
   ]
  },
  {
   "cell_type": "code",
   "execution_count": 44,
   "metadata": {},
   "outputs": [],
   "source": [
    "news = True\n",
    "dataset = 'amazon'"
   ]
  },
  {
   "cell_type": "code",
   "execution_count": 45,
   "metadata": {},
   "outputs": [],
   "source": [
    "data = pd.read_pickle(f'../data/{dataset}_preprocessed')"
   ]
  },
  {
   "cell_type": "code",
   "execution_count": 46,
   "metadata": {},
   "outputs": [],
   "source": [
    "if news:\n",
    "    newsgroups_train = fetch_20newsgroups(subset='train')\n",
    "    newsgroups_test = fetch_20newsgroups(subset='test')\n",
    "    Y_train = newsgroups_train.target\n",
    "    Y_test = newsgroups_test.target\n",
    "\n",
    "    X_train = pd.read_pickle(f'../data/news_train_preprocessed')\n",
    "    X_test = pd.read_pickle(f'../data/news_test_preprocessed')\n",
    "    X_train = X_train['review']\n",
    "    X_test = X_test['review']\n",
    "else:\n",
    "    X_train, X_test, Y_train, Y_test = train_test_split(data['review'], data['sentiment'], test_size=0.2, random_state=5)"
   ]
  },
  {
   "cell_type": "code",
   "execution_count": 61,
   "metadata": {},
   "outputs": [],
   "source": [
    "text_clf = Pipeline([('vect', CountVectorizer()),\n",
    "                     ('tfidf', TfidfTransformer()),\n",
    "                     ('clf', KNeighborsClassifier(n_neighbors=5, metric='euclidean')),\n",
    "                     ])"
   ]
  },
  {
   "cell_type": "code",
   "execution_count": 62,
   "metadata": {},
   "outputs": [
    {
     "name": "stdout",
     "output_type": "stream",
     "text": [
      "              precision    recall  f1-score   support\n",
      "\n",
      "           0       0.55      0.76      0.64       319\n",
      "           1       0.62      0.71      0.66       389\n",
      "           2       0.61      0.62      0.62       394\n",
      "           3       0.57      0.69      0.62       392\n",
      "           4       0.67      0.70      0.68       385\n",
      "           5       0.72      0.66      0.69       395\n",
      "           6       0.72      0.47      0.57       390\n",
      "           7       0.80      0.83      0.81       396\n",
      "           8       0.86      0.88      0.87       398\n",
      "           9       0.87      0.87      0.87       397\n",
      "          10       0.84      0.95      0.89       399\n",
      "          11       0.82      0.90      0.86       396\n",
      "          12       0.70      0.62      0.66       393\n",
      "          13       0.84      0.70      0.77       396\n",
      "          14       0.89      0.83      0.86       394\n",
      "          15       0.74      0.76      0.75       398\n",
      "          16       0.73      0.81      0.77       364\n",
      "          17       0.85      0.75      0.80       376\n",
      "          18       0.75      0.59      0.66       310\n",
      "          19       0.62      0.51      0.56       251\n",
      "\n",
      "    accuracy                           0.74      7532\n",
      "   macro avg       0.74      0.73      0.73      7532\n",
      "weighted avg       0.74      0.74      0.74      7532\n",
      "\n"
     ]
    }
   ],
   "source": [
    "text_clf.fit(X_train, Y_train)\n",
    "predicted = text_clf.predict(X_test)\n",
    "\n",
    "print(metrics.classification_report(Y_test, predicted))"
   ]
  },
  {
   "cell_type": "code",
   "execution_count": null,
   "metadata": {},
   "outputs": [],
   "source": []
  },
  {
   "cell_type": "code",
   "execution_count": null,
   "metadata": {},
   "outputs": [],
   "source": []
  }
 ],
 "metadata": {
  "kernelspec": {
   "display_name": "Python 3",
   "language": "python",
   "name": "python3"
  },
  "language_info": {
   "codemirror_mode": {
    "name": "ipython",
    "version": 3
   },
   "file_extension": ".py",
   "mimetype": "text/x-python",
   "name": "python",
   "nbconvert_exporter": "python",
   "pygments_lexer": "ipython3",
   "version": "3.7.3"
  }
 },
 "nbformat": 4,
 "nbformat_minor": 4
}
