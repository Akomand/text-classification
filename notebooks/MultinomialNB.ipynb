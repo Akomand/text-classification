{
 "cells": [
  {
   "cell_type": "code",
   "execution_count": 55,
   "metadata": {},
   "outputs": [],
   "source": [
    "# Import relevant packages\n",
    "import numpy as np\n",
    "import pandas as pd\n",
    "import matplotlib.pyplot as plt\n",
    "\n",
    "# \n",
    "from sklearn.naive_bayes import MultinomialNB\n",
    "from sklearn.pipeline import Pipeline\n",
    "from sklearn.model_selection import train_test_split\n",
    "from sklearn import metrics\n",
    "from sklearn.preprocessing import LabelEncoder\n",
    "from sklearn.feature_extraction.text import CountVectorizer\n",
    "from sklearn.feature_extraction.text import TfidfTransformer\n",
    "\n",
    "# Datasets\n",
    "from sklearn.datasets import fetch_20newsgroups\n",
    "import utils"
   ]
  },
  {
   "cell_type": "code",
   "execution_count": 56,
   "metadata": {},
   "outputs": [],
   "source": [
    "news = True\n",
    "dataset = 'amazon'\n",
    "data = pd.read_pickle(f'../data/{dataset}_preprocessed')"
   ]
  },
  {
   "cell_type": "code",
   "execution_count": 57,
   "metadata": {},
   "outputs": [],
   "source": [
    "if news:\n",
    "    newsgroups_train = fetch_20newsgroups(subset='train')\n",
    "    newsgroups_test = fetch_20newsgroups(subset='test')\n",
    "    Y_train = newsgroups_train.target\n",
    "    Y_test = newsgroups_test.target\n",
    "\n",
    "    X_train = pd.read_pickle(f'../data/news_train_preprocessed')\n",
    "    X_test = pd.read_pickle(f'../data/news_test_preprocessed')\n",
    "    X_train = X_train['review']\n",
    "    X_test = X_test['review']\n",
    "else:\n",
    "    X_train, X_test, Y_train, Y_test = train_test_split(data['review'], data['sentiment'], test_size=0.2, random_state=5)"
   ]
  },
  {
   "cell_type": "code",
   "execution_count": 58,
   "metadata": {},
   "outputs": [],
   "source": [
    "text_clf = Pipeline([('vect', CountVectorizer()),\n",
    "                     ('tfidf', TfidfTransformer()),\n",
    "                     ('clf', MultinomialNB()),\n",
    "                     ])"
   ]
  },
  {
   "cell_type": "code",
   "execution_count": 59,
   "metadata": {},
   "outputs": [
    {
     "name": "stdout",
     "output_type": "stream",
     "text": [
      "              precision    recall  f1-score   support\n",
      "\n",
      "           0       0.84      0.55      0.67       319\n",
      "           1       0.79      0.73      0.76       389\n",
      "           2       0.83      0.70      0.76       394\n",
      "           3       0.69      0.80      0.74       392\n",
      "           4       0.85      0.84      0.85       385\n",
      "           5       0.90      0.79      0.84       395\n",
      "           6       0.95      0.71      0.81       390\n",
      "           7       0.88      0.94      0.91       396\n",
      "           8       0.95      0.95      0.95       398\n",
      "           9       0.95      0.94      0.94       397\n",
      "          10       0.93      0.98      0.95       399\n",
      "          11       0.64      0.97      0.77       396\n",
      "          12       0.83      0.64      0.72       393\n",
      "          13       0.92      0.84      0.88       396\n",
      "          14       0.88      0.93      0.90       394\n",
      "          15       0.55      0.97      0.70       398\n",
      "          16       0.63      0.96      0.76       364\n",
      "          17       0.92      0.95      0.93       376\n",
      "          18       0.97      0.47      0.63       310\n",
      "          19       0.94      0.13      0.23       251\n",
      "\n",
      "    accuracy                           0.81      7532\n",
      "   macro avg       0.84      0.79      0.79      7532\n",
      "weighted avg       0.84      0.81      0.80      7532\n",
      "\n"
     ]
    }
   ],
   "source": [
    "text_clf.fit(X_train, Y_train)\n",
    "predicted = text_clf.predict(X_test)\n",
    "\n",
    "print(metrics.classification_report(Y_test, predicted))"
   ]
  },
  {
   "cell_type": "code",
   "execution_count": null,
   "metadata": {},
   "outputs": [],
   "source": []
  },
  {
   "cell_type": "code",
   "execution_count": null,
   "metadata": {},
   "outputs": [],
   "source": []
  },
  {
   "cell_type": "code",
   "execution_count": null,
   "metadata": {},
   "outputs": [],
   "source": []
  }
 ],
 "metadata": {
  "kernelspec": {
   "display_name": "Python 3",
   "language": "python",
   "name": "python3"
  },
  "language_info": {
   "codemirror_mode": {
    "name": "ipython",
    "version": 3
   },
   "file_extension": ".py",
   "mimetype": "text/x-python",
   "name": "python",
   "nbconvert_exporter": "python",
   "pygments_lexer": "ipython3",
   "version": "3.7.3"
  }
 },
 "nbformat": 4,
 "nbformat_minor": 4
}
